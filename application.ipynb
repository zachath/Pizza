{
 "cells": [
  {
   "cell_type": "code",
   "execution_count": null,
   "metadata": {},
   "outputs": [],
   "source": [
    "# Michael Fousianiss & Zacharias Thorell\n",
    "# Assignment 3\n",
    "# Application of Pizza?\n",
    "# Run this file to test the system without having to train the model yourself."
   ]
  },
  {
   "cell_type": "code",
   "execution_count": null,
   "metadata": {},
   "outputs": [],
   "source": [
    "# Necessary imports.\n",
    "import tensorflow as tf\n",
    "from tensorflow import keras\n",
    "from tensorflow.keras import layers\n",
    "from tensorflow.keras.models import Sequential\n",
    "\n",
    "import numpy as np"
   ]
  },
  {
   "cell_type": "code",
   "execution_count": null,
   "metadata": {},
   "outputs": [],
   "source": [
    "img_height = 180\n",
    "img_width = 180\n",
    "\n",
    "# Creating an idenical model.\n",
    "\n",
    "model = Sequential([\n",
    "  layers.Rescaling(1./255, input_shape=(img_height, img_width, 3)),\n",
    "  layers.Conv2D(16, 3, padding='same', activation='relu'),\n",
    "  layers.MaxPooling2D(),\n",
    "  layers.Conv2D(32, 3, padding='same', activation='relu'),\n",
    "  layers.MaxPooling2D(),\n",
    "  layers.Conv2D(64, 3, padding='same', activation='relu'),\n",
    "  layers.MaxPooling2D(),\n",
    "  layers.Flatten(),\n",
    "  layers.Dense(128, activation='relu'),\n",
    "  layers.Dense(2)\n",
    "])\n",
    "\n",
    "# However, instead of training it, we simply load the saved weights.\n",
    "\n",
    "model.load_weights('models/model1/model1.ckpt')"
   ]
  },
  {
   "cell_type": "code",
   "execution_count": null,
   "metadata": {},
   "outputs": [],
   "source": [
    "class_names = ['other', 'pizza']\n",
    "def test_unknown_sample(path, model):\n",
    "    img = tf.keras.utils.load_img(\n",
    "        path, target_size = (img_height, img_width)\n",
    "    )\n",
    "\n",
    "    img_array = tf.keras.utils.img_to_array(img)\n",
    "    img_array = tf.expand_dims(img_array, 0)\n",
    "\n",
    "    predictions = model.predict(img_array)\n",
    "    score = tf.nn.softmax(predictions[0])\n",
    "\n",
    "    print(\n",
    "    \"This image most likely belongs to {} with a {:.2f} percent confidence.\"\n",
    "    .format(class_names[np.argmax(score)], 100 * np.max(score))\n",
    "    )"
   ]
  },
  {
   "cell_type": "code",
   "execution_count": null,
   "metadata": {},
   "outputs": [],
   "source": [
    "# The same pictures as where tested in pizza.ipynb, however you can simply test any image you want by replacing the path.\n",
    "\n",
    "test_unknown_sample('images/unknown/real_pizza.jpg', model)    # Real pizza, should be labeled as pizza.\n",
    "test_unknown_sample('images/unknown/burger.jpg', model)        # Burger, should be labeled as other.\n",
    "test_unknown_sample('images/unknown/fake_pizza.jpg', model)    # A fake pizza."
   ]
  },
  {
   "cell_type": "code",
   "execution_count": null,
   "metadata": {},
   "outputs": [],
   "source": [
    "model.load_weights('models/model2/model2.ckpt')"
   ]
  },
  {
   "cell_type": "code",
   "execution_count": null,
   "metadata": {},
   "outputs": [],
   "source": [
    "test_unknown_sample('images/unknown/real_pizza.jpg', model)    # Real pizza, should be labeled as pizza.\n",
    "test_unknown_sample('images/unknown/burger.jpg', model)        # Burger, should be labeled as other.\n",
    "test_unknown_sample('images/unknown/fake_pizza.jpg', model)    # A fake pizza."
   ]
  }
 ],
 "metadata": {
  "interpreter": {
   "hash": "8ba7666f331778570f2a68d34f280f03819d12d85f9009ffb01903c52e0ddd69"
  },
  "kernelspec": {
   "display_name": "Python 3.9.7 64-bit",
   "language": "python",
   "name": "python3"
  },
  "language_info": {
   "codemirror_mode": {
    "name": "ipython",
    "version": 3
   },
   "file_extension": ".py",
   "mimetype": "text/x-python",
   "name": "python",
   "nbconvert_exporter": "python",
   "pygments_lexer": "ipython3",
   "version": "3.9.7"
  },
  "orig_nbformat": 4
 },
 "nbformat": 4,
 "nbformat_minor": 2
}
